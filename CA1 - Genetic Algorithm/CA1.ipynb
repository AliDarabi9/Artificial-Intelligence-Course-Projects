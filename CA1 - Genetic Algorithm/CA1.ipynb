{
 "cells": [
  {
   "cell_type": "markdown",
   "metadata": {},
   "source": [
    "# AI CA1 Genetics "
   ]
  },
  {
   "cell_type": "markdown",
   "metadata": {},
   "source": [
    "# Ali Darabi  -  810100264"
   ]
  },
  {
   "cell_type": "markdown",
   "metadata": {},
   "source": [
    "# Part 1 : Define Basic Concepts : "
   ]
  },
  {
   "cell_type": "markdown",
   "metadata": {},
   "source": [
    "First, we need to define our genes and chromosomes. The genes will be coefficients, so each gene represents one of the coefficients. If the input degree of the polynomial is n,each chromosome will contain (n + 1) genes. This means each chromosome is a potential solution to our problem. For example, if we input degree n = 3, we have 4 coefficients, so each chromosome contains 4 genes."
   ]
  },
  {
   "cell_type": "markdown",
   "metadata": {},
   "source": [
    "Next, we define parameters to solve our problem. Some of these parameters set the crossover method we use to solve problems, such as uniform or single-point crossover. We define two data classes, one to hold hyperparameters (HyperParameters) and the other to hold our problem inputs (ProblemInputs)."
   ]
  },
  {
   "cell_type": "code",
   "execution_count": 1,
   "metadata": {},
   "outputs": [],
   "source": [
    "import random\n",
    "from dataclasses import dataclass\n",
    "\n",
    "SINGLE_POINT_CROSSOVER = \"SINGLE POINT\"\n",
    "UNIFORM_CROSSOVER = \"UNIFORM\"\n",
    "\n",
    "@dataclass\n",
    "class HyperParameters:\n",
    "    CROSSOVER_PROBABILITY: float\n",
    "    METHOD_OF_CROSSOVER: str\n",
    "    MUTATION_PROBABILITY: float\n",
    "    NUM_OF_CHROMOSOMES: int\n",
    "    CARRY_TO_NEXT_ROUND_RATIO: float\n",
    "    NUMBER_OF_GENERATIONS: int\n",
    "\n",
    "@dataclass\n",
    "class ProblemInputs:\n",
    "    degree: int\n",
    "    range_start: int\n",
    "    range_end: int \n",
    "    points: list[list[int]]"
   ]
  },
  {
   "cell_type": "markdown",
   "metadata": {},
   "source": [
    "# Part 2 : Define Primary Population :"
   ]
  },
  {
   "cell_type": "markdown",
   "metadata": {},
   "source": [
    "This function creates a primary population of chromosomes, using randint to create random genes. The inputs are the number of chromosomes, the number of genes per chromosome, the range start, and the range end."
   ]
  },
  {
   "cell_type": "code",
   "execution_count": 2,
   "metadata": {},
   "outputs": [],
   "source": [
    "def primary_population_production(NUM_OF_CHROMOSOMES, num_of_genes, range_start, range_end):\n",
    "    population = []\n",
    "    for i in range(NUM_OF_CHROMOSOMES):\n",
    "        random_genes = [(random.randint(range_start, range_end)) for x in range(num_of_genes)]\n",
    "        population.append(random_genes)\n",
    "    return population"
   ]
  },
  {
   "cell_type": "markdown",
   "metadata": {},
   "source": [
    "# Part 3 : Implementation and Fitness function :"
   ]
  },
  {
   "cell_type": "markdown",
   "metadata": {},
   "source": [
    "This function takes a chromosome (coefficients) and an x-value and calculates the corresponding y-value."
   ]
  },
  {
   "cell_type": "code",
   "execution_count": 3,
   "metadata": {},
   "outputs": [],
   "source": [
    "def calc_polynomial(coefficients, x):\n",
    "    calculated_y = 0\n",
    "    degree = len(coefficients) - 1\n",
    "    for i in range(len(coefficients)):\n",
    "        calculated_y += coefficients[i] * (x ** (degree - i))\n",
    "    return calculated_y"
   ]
  },
  {
   "cell_type": "markdown",
   "metadata": {},
   "source": [
    "In the fitness function, we calculate the sum of the absolute errors between the calculated y-values and the actual y-values for a chromosome and all given points. The fitness value is then calculated as the inverse of the error sum plus one. We add one to avoid dividing by zero in the case of a perfect solution."
   ]
  },
  {
   "cell_type": "markdown",
   "metadata": {},
   "source": [
    "Errors = | actual y_values - calculated y_values |"
   ]
  },
  {
   "cell_type": "markdown",
   "metadata": {},
   "source": [
    "\n",
    "Fitness(Errors) = 1 / (Errors + 1)"
   ]
  },
  {
   "cell_type": "code",
   "execution_count": 4,
   "metadata": {},
   "outputs": [],
   "source": [
    "def fitness_func(chromosome, points):\n",
    "    errors_sum = 0\n",
    "    for x, y in points:\n",
    "        calculated_y = calc_polynomial(chromosome, x)\n",
    "        errors_sum += abs((y - calculated_y))\n",
    "    return ((1 / (errors_sum + 1)) * 100)"
   ]
  },
  {
   "cell_type": "markdown",
   "metadata": {},
   "source": [
    "We use this function to calculate the fitness value for all chromosomes."
   ]
  },
  {
   "cell_type": "code",
   "execution_count": 5,
   "metadata": {},
   "outputs": [],
   "source": [
    "def calc_chromosomes_fitness(chromosomes, points):\n",
    "    chromosomes_fitness = []\n",
    "    for i in range(len(chromosomes)):\n",
    "        chromosomes_fitness.append(fitness_func(chromosomes[i], points))\n",
    "    return chromosomes_fitness"
   ]
  },
  {
   "cell_type": "markdown",
   "metadata": {},
   "source": [
    "This function works by first calculating the sum of the fitness values for all chromosomes.Then, it calculates the probabilities of each chromosome being selected for the mating pool by dividing the fitness of each chromosome by the sum of the fitness values for all chromosomes.\n",
    "Finally, the function builds the mating pool of chromosomes by randomly selecting chromosomes with probabilities proportional to their fitness values.This means that chromosomes with higher fitness values have a higher chance of being selected for the mating pool."
   ]
  },
  {
   "cell_type": "code",
   "execution_count": 6,
   "metadata": {},
   "outputs": [],
   "source": [
    "def build_mating_pool(chromosomes, chromosomes_fitness):\n",
    "    sum_fitness = sum(chromosomes_fitness)\n",
    "    probabilities_weights = []\n",
    "    for fitness in chromosomes_fitness:\n",
    "        probabilities_weights.append(fitness / sum_fitness)\n",
    "    crossover_pool = []\n",
    "    for j in range(len(chromosomes)):\n",
    "        selected_chromosome = random.choices(range(len(chromosomes)), weights=probabilities_weights)[0]\n",
    "        crossover_pool.append(chromosomes[selected_chromosome])\n",
    "    return crossover_pool"
   ]
  },
  {
   "cell_type": "markdown",
   "metadata": {},
   "source": [
    "# Part 4 : Crossover and Mutation :"
   ]
  },
  {
   "cell_type": "markdown",
   "metadata": {},
   "source": [
    "This function takes two chromosomes as input and returns two new offspring chromosomes. The crossover method is determined by the const variable METHOD_OF_CROSSOVER.\n",
    "If the crossover method is SINGLE_POINT_CROSSOVER, a single crossover point is randomly selected and the two chromosomes are exchanged at that point. If the crossover method is UNIFORM_CROSSOVER, each gene in the offspring chromosomes is randomly selected from either of the parent chromosomes with equal probability."
   ]
  },
  {
   "cell_type": "code",
   "execution_count": 7,
   "metadata": {},
   "outputs": [],
   "source": [
    "def crossover_func(chromosome_one, chromosome_two, CROSSOVER_PROBABILITY, METHOD_OF_CROSSOVER):\n",
    "    if METHOD_OF_CROSSOVER == SINGLE_POINT_CROSSOVER:\n",
    "        if random.random() < CROSSOVER_PROBABILITY:\n",
    "            crossover_point = random.randint(1, len(chromosome_one) - 1)\n",
    "            new_chromosome_one = chromosome_one[:crossover_point] + chromosome_two[crossover_point:]\n",
    "            new_chromosome_two = chromosome_two[:crossover_point] + chromosome_one[crossover_point:]\n",
    "            return new_chromosome_one, new_chromosome_two\n",
    "        else:\n",
    "            return chromosome_one, chromosome_two\n",
    "    elif METHOD_OF_CROSSOVER == UNIFORM_CROSSOVER:\n",
    "        new_chromosome_one = []\n",
    "        new_chromosome_two = []\n",
    "        for i in range(len(chromosome_one)):\n",
    "            if random.random() < CROSSOVER_PROBABILITY:\n",
    "                new_chromosome_one.append(chromosome_two[i])\n",
    "                new_chromosome_two.append(chromosome_one[i])\n",
    "            else:\n",
    "                new_chromosome_one.append(chromosome_one[i])\n",
    "                new_chromosome_two.append(chromosome_two[i])\n",
    "        return new_chromosome_one, new_chromosome_two"
   ]
  },
  {
   "cell_type": "markdown",
   "metadata": {},
   "source": [
    "This function works by first sorting the chromosomes by their fitness values, in descending order. Then, it selects the top chromosomes as the elite chromosomes."
   ]
  },
  {
   "cell_type": "code",
   "execution_count": 8,
   "metadata": {},
   "outputs": [],
   "source": [
    "def elite_chromosomes_selection(chromosomes, chromosomes_fitness, CARRY_TO_NEXT_ROUND_RATIO):\n",
    "    chromosomes_sorted = sorted(zip(chromosomes, chromosomes_fitness), key=lambda x: x[1], reverse=True)\n",
    "    elite_chromosomes = [x for x, _ in chromosomes_sorted[:int(CARRY_TO_NEXT_ROUND_RATIO * len(chromosomes))]]\n",
    "    return elite_chromosomes"
   ]
  },
  {
   "cell_type": "markdown",
   "metadata": {},
   "source": [
    "This function works by first creating a copy of the chromosomes list. Then, it removes the elite chromosomes from the ordinary chromosomes list."
   ]
  },
  {
   "cell_type": "code",
   "execution_count": 9,
   "metadata": {},
   "outputs": [],
   "source": [
    "def ordinery_chromosomes_selection(chromosomes, elite_chromosomes):\n",
    "    ordinery_chromosomes = chromosomes\n",
    "    for i in range(len(elite_chromosomes)):\n",
    "        for j in range(len(ordinery_chromosomes)):\n",
    "            if elite_chromosomes[i] == ordinery_chromosomes[j]:\n",
    "                ordinery_chromosomes.remove(ordinery_chromosomes[j])\n",
    "                break\n",
    "    return ordinery_chromosomes"
   ]
  },
  {
   "cell_type": "markdown",
   "metadata": {},
   "source": [
    "This function works by first selecting the elite chromosomes and the ordinary chromosomes. The elite chromosomes are the chromosomes with the highest fitness values in the population, and they are not mutated. The ordinary chromosomes are the remaining chromosomes in the population, and they are mutated.Once the ordinary chromosomes have been mutated, the function combines them with the elite chromosomes to form the new population of chromosomes."
   ]
  },
  {
   "cell_type": "code",
   "execution_count": 10,
   "metadata": {},
   "outputs": [],
   "source": [
    "def mutation_func(chromosomes, chromosomes_fitness, range_start, range_end, MUTATION_PROBABILITY, CARRY_TO_NEXT_ROUND_RATIO):\n",
    "    elite_chromosomes = elite_chromosomes_selection(chromosomes, chromosomes_fitness, CARRY_TO_NEXT_ROUND_RATIO)\n",
    "    ordinery_chromosomes = ordinery_chromosomes_selection(chromosomes, elite_chromosomes)\n",
    "    for chromosome in ordinery_chromosomes:\n",
    "        for i in range(len(chromosome)):\n",
    "            if random.random() < MUTATION_PROBABILITY:\n",
    "                chromosome[i] += round(random.uniform(range_start, range_end))\n",
    "                if chromosome[i] > range_end:\n",
    "                    chromosome[i] = range_end\n",
    "                elif chromosome[i] < range_start:\n",
    "                    chromosome[i] = range_start\n",
    "\n",
    "    chromosomes_mutated = elite_chromosomes + ordinery_chromosomes\n",
    "    return chromosomes_mutated"
   ]
  },
  {
   "cell_type": "markdown",
   "metadata": {},
   "source": [
    "# Part 5 : Implementing the Genetic Algorithm on problem "
   ]
  },
  {
   "cell_type": "markdown",
   "metadata": {},
   "source": [
    "Finally, we use the functions we declared in other parts to apply the genetic algorithm to our problem."
   ]
  },
  {
   "cell_type": "markdown",
   "metadata": {},
   "source": [
    "This function applies crossover to a population of chromosomes and returns a new population of chromosomes."
   ]
  },
  {
   "cell_type": "code",
   "execution_count": 11,
   "metadata": {},
   "outputs": [],
   "source": [
    "def apply_crossover(chromosomes, chromosomes_fitness, CROSSOVER_PROBABILITY, METHOD_OF_CROSSOVER):\n",
    "    crossover_pool = build_mating_pool(chromosomes, chromosomes_fitness)\n",
    "    new_chromosomes = []\n",
    "    for i in range(0, len(crossover_pool), 2):\n",
    "        parent_one = crossover_pool[i]\n",
    "        parent_two = crossover_pool[i + 1]\n",
    "        child_one, child_two = crossover_func(parent_one, parent_two, CROSSOVER_PROBABILITY, METHOD_OF_CROSSOVER)\n",
    "        new_chromosomes.append(child_one)\n",
    "        new_chromosomes.append(child_two)\n",
    "    return new_chromosomes"
   ]
  },
  {
   "cell_type": "markdown",
   "metadata": {},
   "source": [
    "This function prints the best chromosome and its fitness value."
   ]
  },
  {
   "cell_type": "code",
   "execution_count": 12,
   "metadata": {},
   "outputs": [],
   "source": [
    "def print_answer(chromosomes, chromosomes_fitness):\n",
    "    best_chromosome = chromosomes[0]\n",
    "    best_fitness = chromosomes_fitness[0]\n",
    "    for i in range(1, len(chromosomes)):\n",
    "        if chromosomes_fitness[i] > best_fitness:\n",
    "            best_chromosome = chromosomes[i]\n",
    "            best_fitness = chromosomes_fitness[i]\n",
    "\n",
    "    for i in range(len(best_chromosome)):\n",
    "        print(\"coefficient of x ^\",(len(best_chromosome) - i - 1), \"is:\", best_chromosome[i])\n",
    "    print(\"Fitness:\", best_fitness)"
   ]
  },
  {
   "cell_type": "markdown",
   "metadata": {},
   "source": [
    "\n",
    "This function applies genetic algorithms to th problem to find the best solution and we put a limit on number of generations."
   ]
  },
  {
   "cell_type": "code",
   "execution_count": 13,
   "metadata": {},
   "outputs": [],
   "source": [
    "def apply_genetics_on_problem(problem_inputs: ProblemInputs, hyper_parameters: HyperParameters):\n",
    "    num_of_genes = problem_inputs.degree + 1\n",
    "    range_start = problem_inputs.range_start\n",
    "    range_end = problem_inputs.range_end\n",
    "    points = problem_inputs.points\n",
    "    NUM_OF_CHROMOSOMES = hyper_parameters.NUM_OF_CHROMOSOMES\n",
    "    NUMBER_OF_GENERATIONS = hyper_parameters.NUMBER_OF_GENERATIONS\n",
    "    CROSSOVER_PROBABILITY = hyper_parameters.CROSSOVER_PROBABILITY\n",
    "    METHOD_OF_CROSSOVER = hyper_parameters.METHOD_OF_CROSSOVER\n",
    "    MUTATION_PROBABILITY = hyper_parameters.MUTATION_PROBABILITY\n",
    "    CARRY_TO_NEXT_ROUND_RATIO = hyper_parameters.CARRY_TO_NEXT_ROUND_RATIO\n",
    "\n",
    "    chromosomes = primary_population_production(NUM_OF_CHROMOSOMES, num_of_genes, range_start, range_end)\n",
    "    for generation in range(NUMBER_OF_GENERATIONS):\n",
    "        chromosomes_fitness = calc_chromosomes_fitness(chromosomes, points)\n",
    "        chromosomes = apply_crossover(chromosomes, chromosomes_fitness, CROSSOVER_PROBABILITY, METHOD_OF_CROSSOVER)\n",
    "        chromosomes_fitness = calc_chromosomes_fitness(chromosomes, points)\n",
    "        chromosomes = mutation_func(chromosomes, chromosomes_fitness, range_start, range_end, MUTATION_PROBABILITY, CARRY_TO_NEXT_ROUND_RATIO)\n",
    "    print_answer(chromosomes, chromosomes_fitness)"
   ]
  },
  {
   "cell_type": "markdown",
   "metadata": {},
   "source": [
    "For testing our algorithm, we use the following parameters:"
   ]
  },
  {
   "cell_type": "code",
   "execution_count": 14,
   "metadata": {},
   "outputs": [],
   "source": [
    "hyper_parameters = HyperParameters(\n",
    "    CROSSOVER_PROBABILITY = 0.6,\n",
    "    METHOD_OF_CROSSOVER = SINGLE_POINT_CROSSOVER, \n",
    "    MUTATION_PROBABILITY = 0.2,\n",
    "    NUM_OF_CHROMOSOMES = 500,\n",
    "    CARRY_TO_NEXT_ROUND_RATIO = 0.1,\n",
    "    NUMBER_OF_GENERATIONS = 300\n",
    ") "
   ]
  },
  {
   "cell_type": "markdown",
   "metadata": {},
   "source": [
    "Initializing our problem inputs :"
   ]
  },
  {
   "cell_type": "code",
   "execution_count": 38,
   "metadata": {},
   "outputs": [],
   "source": [
    "problem_inputs = ProblemInputs(\n",
    "    degree = 2,\n",
    "    range_start = -10,\n",
    "    range_end = 10,\n",
    "    points = [[0, 1], [-1, 0], [1, 5]]\n",
    ")"
   ]
  },
  {
   "cell_type": "code",
   "execution_count": 39,
   "metadata": {},
   "outputs": [
    {
     "name": "stdout",
     "output_type": "stream",
     "text": [
      "coefficient of x ^ 2 is: 1\n",
      "coefficient of x ^ 1 is: 3\n",
      "coefficient of x ^ 0 is: 1\n",
      "Fitness: 50.0\n"
     ]
    }
   ],
   "source": [
    "apply_genetics_on_problem(problem_inputs, hyper_parameters)"
   ]
  },
  {
   "cell_type": "markdown",
   "metadata": {},
   "source": [
    "The final answer depends on the range of coefficients we choose, but one optimal answer is [1, -5, 3, 1]."
   ]
  },
  {
   "cell_type": "markdown",
   "metadata": {},
   "source": [
    "I will write the answers for Part 6 in a PDF file, which I will send to you along with this file."
   ]
  }
 ],
 "metadata": {
  "kernelspec": {
   "display_name": "Python 3",
   "language": "python",
   "name": "python3"
  },
  "language_info": {
   "codemirror_mode": {
    "name": "ipython",
    "version": 3
   },
   "file_extension": ".py",
   "mimetype": "text/x-python",
   "name": "python",
   "nbconvert_exporter": "python",
   "pygments_lexer": "ipython3",
   "version": "3.12.0"
  }
 },
 "nbformat": 4,
 "nbformat_minor": 2
}
